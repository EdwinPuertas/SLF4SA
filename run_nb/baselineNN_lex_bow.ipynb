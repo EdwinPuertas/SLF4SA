{
 "cells": [
  {
   "cell_type": "code",
   "execution_count": 1,
   "metadata": {},
   "outputs": [],
   "source": [
    "import io\n",
    "import sys\n",
    "PATH = '/home/epuerta/Academic/AI_DataAnalytics/SLF4SA/'\n",
    "DIR_DATA = '../Academic/AI_DataAnalytics/SLF4SA/data/input/'\n",
    "sys.path.append(PATH) if PATH not in list(sys.path) else None\n",
    "import os\n",
    "import tensorflow as tf\n",
    "import pandas as pd\n",
    "import numpy as np\n",
    "import seaborn as sns\n",
    "from tqdm import tqdm\n",
    "import plotly.express as px\n",
    "import matplotlib.pyplot as plt\n",
    "from collections import Counter\n",
    "from sklearn import preprocessing\n",
    "\n",
    "from sklearn.pipeline import FeatureUnion\n",
    "from tensorflow import keras\n",
    "from keras.layers import Dense\n",
    "from keras.models import Sequential\n",
    "from sklearn.model_selection import RepeatedKFold\n",
    "from sklearn.preprocessing import LabelEncoder, StandardScaler\n",
    "\n",
    "\n",
    "from sklearn.metrics import plot_confusion_matrix\n",
    "from sklearn.feature_selection import SelectKBest, chi2, mutual_info_classif\n",
    "from sklearn.model_selection import StratifiedShuffleSplit, cross_val_score\n",
    "from imblearn.over_sampling import RandomOverSampler\n",
    "from sklearn.feature_extraction.text import CountVectorizer, TfidfVectorizer\n",
    "from sklearn.model_selection import train_test_split, cross_val_score, ShuffleSplit\n",
    "from sklearn.metrics import mean_squared_error, r2_score\n",
    "from sklearn.metrics import classification_report, confusion_matrix, recall_score, log_loss\n",
    "from sklearn.metrics import f1_score, accuracy_score, precision_score\n",
    "\n",
    "from logic.utils import Utils\n",
    "from logic.classifiers import Classifiers\n",
    "from logic.text_processing import TextProcessing\n",
    "from logic.lexical_vectorizer import LexicalVectorizer\n",
    "from root import DIR_RESULTS"
   ]
  },
  {
   "cell_type": "markdown",
   "metadata": {},
   "source": [
    "# Variable initialization "
   ]
  },
  {
   "cell_type": "code",
   "execution_count": 2,
   "metadata": {},
   "outputs": [],
   "source": [
    "lang = 'es'\n",
    "iteration = 10\n",
    "fold = 10\n",
    "classifiers = Classifiers.dict_classifiers\n",
    "tp = TextProcessing(lang=lang)\n",
    "lv = LexicalVectorizer(lang=lang, text_processing=tp)\n",
    "ut = Utils(lang=lang, text_processing=tp)"
   ]
  },
  {
   "cell_type": "markdown",
   "metadata": {},
   "source": [
    "# Import data"
   ]
  },
  {
   "cell_type": "code",
   "execution_count": 3,
   "metadata": {},
   "outputs": [
    {
     "name": "stdout",
     "output_type": "stream",
     "text": [
      "+ Import training...\n",
      "\t\t - Dataset size :(x: 5886 , y: 5886)\n",
      "+ Import test...\n",
      "\t\t - Dataset size :(x: 857 , y: 857)\n"
     ]
    }
   ],
   "source": [
    "print('+ Import training...')\n",
    "x, y = ut.get_data(file_name='tass2020_emotion_train')\n",
    "print('+ Import test...')\n",
    "x_eval, y_eval = ut.get_data(file_name='tass2020_emotion_dev')"
   ]
  },
  {
   "cell_type": "markdown",
   "metadata": {},
   "source": [
    "# Feature extraction"
   ]
  },
  {
   "cell_type": "code",
   "execution_count": 4,
   "metadata": {},
   "outputs": [
    {
     "name": "stdout",
     "output_type": "stream",
     "text": [
      "- train:\n",
      " [('anger ', 600), ('disgust ', 113), ('fear ', 67), ('joy ', 1270), ('others ', 2889), ('sadness ', 706), ('surprise ', 241)]\n"
     ]
    }
   ],
   "source": [
    "bow_vector = CountVectorizer(analyzer='word', ngram_range=(2, 2), min_df=10)\n",
    "preprocessor = FeatureUnion([('bow_vector', bow_vector), ('lex_vector', lv)])\n",
    "preprocessor.fit(x)\n",
    "x = preprocessor.transform(x)\n",
    "\n",
    "print('- train:\\n', sorted(Counter(y).items()))"
   ]
  },
  {
   "cell_type": "markdown",
   "metadata": {},
   "source": [
    "# Over Sampling"
   ]
  },
  {
   "cell_type": "code",
   "execution_count": 5,
   "metadata": {},
   "outputs": [
    {
     "name": "stdout",
     "output_type": "stream",
     "text": [
      "- train:\n",
      " [('anger ', 2023), ('disgust ', 2023), ('fear ', 2023), ('joy ', 2023), ('others ', 2023), ('sadness ', 2023), ('surprise ', 2023)]\n",
      "- test:\n",
      " [('anger ', 866), ('disgust ', 866), ('fear ', 866), ('joy ', 866), ('others ', 866), ('sadness ', 866), ('surprise ', 866)]\n"
     ]
    }
   ],
   "source": [
    "k_fold = ShuffleSplit(n_splits=fold, test_size=0.25, random_state=42)\n",
    "\n",
    "x_train, x_test, y_train, y_test = train_test_split(x, y, test_size=.3, random_state=42)\n",
    "ros_train = RandomOverSampler(random_state=1000)\n",
    "x_train, y_train = ros_train.fit_resample(x_train, y_train)\n",
    "x_test, y_test = ros_train.fit_resample(x_test, y_test)\n",
    "print('- train:\\n', sorted(Counter(y_train).items()))\n",
    "print('- test:\\n', sorted(Counter(y_test).items()))"
   ]
  },
  {
   "cell_type": "code",
   "execution_count": 6,
   "metadata": {},
   "outputs": [
    {
     "data": {
      "text/plain": [
       "(1041,)"
      ]
     },
     "execution_count": 6,
     "metadata": {},
     "output_type": "execute_result"
    }
   ],
   "source": [
    "shape = x_train.shape[1:]\n",
    "shape"
   ]
  },
  {
   "cell_type": "code",
   "execution_count": 7,
   "metadata": {},
   "outputs": [],
   "source": [
    "lb = LabelEncoder()\n",
    "y_train = lb.fit_transform([i.rstrip() for i in y_train.to_list()])\n",
    "y_eval = lb.transform([i.rstrip() for i in y_eval.to_list()])\n",
    "y_test = lb.transform([i.rstrip() for i in y_test.to_list()])"
   ]
  },
  {
   "cell_type": "markdown",
   "metadata": {},
   "source": [
    "# NN Architecture"
   ]
  },
  {
   "cell_type": "code",
   "execution_count": 11,
   "metadata": {},
   "outputs": [
    {
     "name": "stdout",
     "output_type": "stream",
     "text": [
      "Model: \"sequential\"\n",
      "_________________________________________________________________\n",
      "Layer (type)                 Output Shape              Param #   \n",
      "=================================================================\n",
      "dense (Dense)                (None, 600)               625200    \n",
      "_________________________________________________________________\n",
      "dense_1 (Dense)              (None, 300)               180300    \n",
      "_________________________________________________________________\n",
      "dense_2 (Dense)              (None, 150)               45150     \n",
      "_________________________________________________________________\n",
      "dense_3 (Dense)              (None, 7)                 1057      \n",
      "=================================================================\n",
      "Total params: 851,707\n",
      "Trainable params: 851,707\n",
      "Non-trainable params: 0\n",
      "_________________________________________________________________\n"
     ]
    }
   ],
   "source": [
    "keras.backend.clear_session()\n",
    "np.random.seed(42)\n",
    "tf.random.set_seed(42)\n",
    "\n",
    "model = keras.models.Sequential([keras.layers.Input(shape=shape),\n",
    "                                 keras.layers.Dense(600, activation=\"relu\"),\n",
    "                                 keras.layers.Dense(300, activation=\"relu\"),\n",
    "                                 keras.layers.Dense(150, activation=\"relu\"),\n",
    "                                 keras.layers.Dense(7, activation=\"softmax\")\n",
    "                                ])\n",
    "model.compile(loss=\"sparse_categorical_crossentropy\", optimizer=\"sgd\", metrics=[\"accuracy\"])\n",
    "model.summary()"
   ]
  },
  {
   "cell_type": "markdown",
   "metadata": {},
   "source": [
    "# Training"
   ]
  },
  {
   "cell_type": "code",
   "execution_count": 12,
   "metadata": {},
   "outputs": [
    {
     "name": "stdout",
     "output_type": "stream",
     "text": [
      "Epoch 1/100\n",
      "443/443 [==============================] - 4s 9ms/step - loss: 1.9313 - accuracy: 0.1986 - val_loss: 1.9318 - val_accuracy: 0.1915\n",
      "Epoch 2/100\n",
      "443/443 [==============================] - 4s 8ms/step - loss: 1.8979 - accuracy: 0.2954 - val_loss: 1.9170 - val_accuracy: 0.2123\n",
      "Epoch 3/100\n",
      "443/443 [==============================] - 4s 8ms/step - loss: 1.8518 - accuracy: 0.3669 - val_loss: 1.8928 - val_accuracy: 0.2278\n",
      "Epoch 4/100\n",
      "443/443 [==============================] - 4s 8ms/step - loss: 1.7715 - accuracy: 0.4305 - val_loss: 1.8557 - val_accuracy: 0.2639\n",
      "Epoch 5/100\n",
      "443/443 [==============================] - 4s 8ms/step - loss: 1.6321 - accuracy: 0.4856 - val_loss: 1.8016 - val_accuracy: 0.2836\n",
      "Epoch 6/100\n",
      "443/443 [==============================] - 4s 8ms/step - loss: 1.4458 - accuracy: 0.5353 - val_loss: 1.7871 - val_accuracy: 0.3045\n",
      "Epoch 7/100\n",
      "443/443 [==============================] - 4s 8ms/step - loss: 1.2579 - accuracy: 0.5884 - val_loss: 1.8230 - val_accuracy: 0.3075\n",
      "Epoch 8/100\n",
      "443/443 [==============================] - 4s 8ms/step - loss: 1.0865 - accuracy: 0.6404 - val_loss: 1.9417 - val_accuracy: 0.3388\n",
      "Epoch 9/100\n",
      "443/443 [==============================] - 4s 9ms/step - loss: 0.9382 - accuracy: 0.6877 - val_loss: 2.0966 - val_accuracy: 0.3329\n",
      "Epoch 10/100\n",
      "443/443 [==============================] - 4s 8ms/step - loss: 0.8144 - accuracy: 0.7295 - val_loss: 2.1808 - val_accuracy: 0.3499\n",
      "Epoch 11/100\n",
      "443/443 [==============================] - 4s 8ms/step - loss: 0.7158 - accuracy: 0.7605 - val_loss: 2.3440 - val_accuracy: 0.3364\n",
      "Epoch 12/100\n",
      "443/443 [==============================] - 4s 8ms/step - loss: 0.6374 - accuracy: 0.7857 - val_loss: 2.5311 - val_accuracy: 0.3289\n",
      "Epoch 13/100\n",
      "443/443 [==============================] - 4s 9ms/step - loss: 0.5723 - accuracy: 0.8049 - val_loss: 2.6207 - val_accuracy: 0.3307\n",
      "Epoch 14/100\n",
      "443/443 [==============================] - 4s 8ms/step - loss: 0.5167 - accuracy: 0.8236 - val_loss: 2.8568 - val_accuracy: 0.3228\n",
      "Epoch 15/100\n",
      "443/443 [==============================] - 4s 8ms/step - loss: 0.4728 - accuracy: 0.8374 - val_loss: 3.1690 - val_accuracy: 0.3261\n",
      "Epoch 16/100\n",
      "443/443 [==============================] - 4s 8ms/step - loss: 0.4354 - accuracy: 0.8528 - val_loss: 3.1017 - val_accuracy: 0.3217\n",
      "Epoch 17/100\n",
      "443/443 [==============================] - 4s 8ms/step - loss: 0.4044 - accuracy: 0.8616 - val_loss: 3.2765 - val_accuracy: 0.3050\n",
      "Epoch 18/100\n",
      "443/443 [==============================] - 4s 8ms/step - loss: 0.3770 - accuracy: 0.8710 - val_loss: 3.5958 - val_accuracy: 0.3096\n",
      "Epoch 19/100\n",
      "443/443 [==============================] - 4s 8ms/step - loss: 0.3499 - accuracy: 0.8819 - val_loss: 3.7090 - val_accuracy: 0.3029\n",
      "Epoch 20/100\n",
      "443/443 [==============================] - 4s 8ms/step - loss: 0.3282 - accuracy: 0.8880 - val_loss: 3.9470 - val_accuracy: 0.3032\n",
      "Epoch 21/100\n",
      "443/443 [==============================] - 4s 8ms/step - loss: 0.3104 - accuracy: 0.8963 - val_loss: 3.9734 - val_accuracy: 0.3045\n",
      "Epoch 22/100\n",
      "443/443 [==============================] - 4s 8ms/step - loss: 0.2902 - accuracy: 0.9019 - val_loss: 4.0000 - val_accuracy: 0.3058\n",
      "Epoch 23/100\n",
      "443/443 [==============================] - 4s 8ms/step - loss: 0.2742 - accuracy: 0.9074 - val_loss: 4.2794 - val_accuracy: 0.3058\n",
      "Epoch 24/100\n",
      "443/443 [==============================] - 4s 8ms/step - loss: 0.2592 - accuracy: 0.9139 - val_loss: 4.2721 - val_accuracy: 0.2931\n",
      "Epoch 25/100\n",
      "443/443 [==============================] - 4s 8ms/step - loss: 0.2480 - accuracy: 0.9186 - val_loss: 4.5399 - val_accuracy: 0.3058\n",
      "Epoch 26/100\n",
      "443/443 [==============================] - 4s 8ms/step - loss: 0.2346 - accuracy: 0.9239 - val_loss: 4.3402 - val_accuracy: 0.3146\n",
      "Epoch 27/100\n",
      "443/443 [==============================] - 4s 8ms/step - loss: 0.2236 - accuracy: 0.9275 - val_loss: 4.7460 - val_accuracy: 0.2903\n",
      "Epoch 28/100\n",
      "443/443 [==============================] - 4s 8ms/step - loss: 0.2099 - accuracy: 0.9333 - val_loss: 4.6181 - val_accuracy: 0.3020\n",
      "Epoch 29/100\n",
      "443/443 [==============================] - 4s 8ms/step - loss: 0.2064 - accuracy: 0.9329 - val_loss: 4.7676 - val_accuracy: 0.2973\n",
      "Epoch 30/100\n",
      "443/443 [==============================] - 4s 8ms/step - loss: 0.1928 - accuracy: 0.9373 - val_loss: 4.8802 - val_accuracy: 0.2888\n",
      "Epoch 31/100\n",
      "443/443 [==============================] - 4s 8ms/step - loss: 0.1834 - accuracy: 0.9420 - val_loss: 4.9595 - val_accuracy: 0.3118\n",
      "Epoch 32/100\n",
      "443/443 [==============================] - 3s 8ms/step - loss: 0.1738 - accuracy: 0.9452 - val_loss: 5.0677 - val_accuracy: 0.3001\n",
      "Epoch 33/100\n",
      "443/443 [==============================] - 4s 8ms/step - loss: 0.1667 - accuracy: 0.9470 - val_loss: 4.8755 - val_accuracy: 0.3030\n",
      "Epoch 34/100\n",
      "443/443 [==============================] - 4s 8ms/step - loss: 0.1644 - accuracy: 0.9497 - val_loss: 4.9424 - val_accuracy: 0.2958\n",
      "Epoch 35/100\n",
      "443/443 [==============================] - 4s 8ms/step - loss: 0.1660 - accuracy: 0.9509 - val_loss: 5.0846 - val_accuracy: 0.3017\n",
      "Epoch 36/100\n",
      "443/443 [==============================] - 4s 8ms/step - loss: 0.1492 - accuracy: 0.9538 - val_loss: 5.4926 - val_accuracy: 0.2829\n",
      "Epoch 37/100\n",
      "443/443 [==============================] - 4s 8ms/step - loss: 0.1417 - accuracy: 0.9570 - val_loss: 5.7131 - val_accuracy: 0.2898\n",
      "Epoch 38/100\n",
      "443/443 [==============================] - 4s 8ms/step - loss: 0.1407 - accuracy: 0.9587 - val_loss: 5.7717 - val_accuracy: 0.2925\n",
      "Epoch 39/100\n",
      "443/443 [==============================] - 4s 8ms/step - loss: 0.1363 - accuracy: 0.9600 - val_loss: 5.8758 - val_accuracy: 0.2958\n",
      "Epoch 40/100\n",
      "443/443 [==============================] - 4s 8ms/step - loss: 0.1310 - accuracy: 0.9613 - val_loss: 5.6370 - val_accuracy: 0.2905\n",
      "Epoch 41/100\n",
      "443/443 [==============================] - 4s 8ms/step - loss: 0.1249 - accuracy: 0.9626 - val_loss: 5.7116 - val_accuracy: 0.3011\n",
      "Epoch 42/100\n",
      "443/443 [==============================] - 4s 8ms/step - loss: 0.1256 - accuracy: 0.9633 - val_loss: 6.2526 - val_accuracy: 0.2834\n",
      "Epoch 43/100\n",
      "443/443 [==============================] - 4s 8ms/step - loss: 0.1188 - accuracy: 0.9647 - val_loss: 6.0385 - val_accuracy: 0.2926\n",
      "Epoch 44/100\n",
      "443/443 [==============================] - 4s 8ms/step - loss: 0.1197 - accuracy: 0.9648 - val_loss: 6.1802 - val_accuracy: 0.2771\n",
      "Epoch 45/100\n",
      "443/443 [==============================] - 4s 8ms/step - loss: 0.1115 - accuracy: 0.9674 - val_loss: 5.4053 - val_accuracy: 0.2963\n",
      "Epoch 46/100\n",
      "443/443 [==============================] - 4s 8ms/step - loss: 0.1089 - accuracy: 0.9675 - val_loss: 5.9231 - val_accuracy: 0.2895\n",
      "Epoch 47/100\n",
      "443/443 [==============================] - 4s 8ms/step - loss: 0.1093 - accuracy: 0.9696 - val_loss: 5.8801 - val_accuracy: 0.2969\n",
      "Epoch 48/100\n",
      "443/443 [==============================] - 4s 8ms/step - loss: 0.1093 - accuracy: 0.9686 - val_loss: 6.1300 - val_accuracy: 0.2991\n",
      "Epoch 49/100\n",
      "443/443 [==============================] - 4s 8ms/step - loss: 0.1009 - accuracy: 0.9707 - val_loss: 5.9413 - val_accuracy: 0.2987\n",
      "Epoch 50/100\n",
      "443/443 [==============================] - 4s 8ms/step - loss: 0.1016 - accuracy: 0.9699 - val_loss: 6.3138 - val_accuracy: 0.2882\n",
      "Epoch 51/100\n",
      "443/443 [==============================] - 4s 8ms/step - loss: 0.0966 - accuracy: 0.9715 - val_loss: 6.4818 - val_accuracy: 0.2910\n",
      "Epoch 52/100\n",
      "443/443 [==============================] - 4s 8ms/step - loss: 0.0940 - accuracy: 0.9720 - val_loss: 6.3822 - val_accuracy: 0.2918\n",
      "Epoch 53/100\n",
      "443/443 [==============================] - 4s 8ms/step - loss: 0.0879 - accuracy: 0.9742 - val_loss: 6.9497 - val_accuracy: 0.2913\n",
      "Epoch 54/100\n",
      "443/443 [==============================] - 4s 8ms/step - loss: 0.0942 - accuracy: 0.9722 - val_loss: 6.4114 - val_accuracy: 0.2917\n",
      "Epoch 55/100\n",
      "443/443 [==============================] - 4s 8ms/step - loss: 0.0886 - accuracy: 0.9738 - val_loss: 6.9870 - val_accuracy: 0.2872\n",
      "Epoch 56/100\n",
      "443/443 [==============================] - 4s 8ms/step - loss: 0.0896 - accuracy: 0.9738 - val_loss: 6.4975 - val_accuracy: 0.2905\n",
      "Epoch 57/100\n",
      "443/443 [==============================] - 4s 8ms/step - loss: 0.0848 - accuracy: 0.9739 - val_loss: 6.2944 - val_accuracy: 0.3040\n"
     ]
    },
    {
     "name": "stdout",
     "output_type": "stream",
     "text": [
      "Epoch 58/100\n",
      "443/443 [==============================] - 4s 8ms/step - loss: 0.0877 - accuracy: 0.9742 - val_loss: 6.6449 - val_accuracy: 0.2887\n",
      "Epoch 59/100\n",
      "443/443 [==============================] - 4s 8ms/step - loss: 0.0823 - accuracy: 0.9754 - val_loss: 6.6683 - val_accuracy: 0.2946\n",
      "Epoch 60/100\n",
      "443/443 [==============================] - 4s 8ms/step - loss: 0.0826 - accuracy: 0.9764 - val_loss: 7.2517 - val_accuracy: 0.2855\n",
      "Epoch 61/100\n",
      "443/443 [==============================] - 4s 9ms/step - loss: 0.0812 - accuracy: 0.9752 - val_loss: 6.6898 - val_accuracy: 0.2933\n",
      "Epoch 62/100\n",
      "443/443 [==============================] - 4s 8ms/step - loss: 0.0797 - accuracy: 0.9756 - val_loss: 6.5419 - val_accuracy: 0.2895\n",
      "Epoch 63/100\n",
      "443/443 [==============================] - 4s 8ms/step - loss: 0.0789 - accuracy: 0.9774 - val_loss: 7.3626 - val_accuracy: 0.2801\n",
      "Epoch 64/100\n",
      "443/443 [==============================] - 4s 8ms/step - loss: 0.0804 - accuracy: 0.9758 - val_loss: 6.5734 - val_accuracy: 0.2879\n",
      "Epoch 65/100\n",
      "443/443 [==============================] - 4s 8ms/step - loss: 0.0742 - accuracy: 0.9770 - val_loss: 6.7738 - val_accuracy: 0.3006\n",
      "Epoch 66/100\n",
      "443/443 [==============================] - 4s 8ms/step - loss: 0.0713 - accuracy: 0.9779 - val_loss: 6.6723 - val_accuracy: 0.2869\n",
      "Epoch 67/100\n",
      "443/443 [==============================] - 4s 8ms/step - loss: 0.0771 - accuracy: 0.9765 - val_loss: 7.5953 - val_accuracy: 0.2852\n",
      "Epoch 68/100\n",
      "443/443 [==============================] - 4s 8ms/step - loss: 0.0751 - accuracy: 0.9758 - val_loss: 7.0123 - val_accuracy: 0.2943\n",
      "Epoch 69/100\n",
      "443/443 [==============================] - 4s 8ms/step - loss: 0.0725 - accuracy: 0.9785 - val_loss: 7.2449 - val_accuracy: 0.2959\n",
      "Epoch 70/100\n",
      "443/443 [==============================] - 4s 8ms/step - loss: 0.0673 - accuracy: 0.9783 - val_loss: 7.3054 - val_accuracy: 0.2884\n",
      "Epoch 71/100\n",
      "443/443 [==============================] - 4s 8ms/step - loss: 0.0655 - accuracy: 0.9809 - val_loss: 6.9849 - val_accuracy: 0.2905\n",
      "Epoch 72/100\n",
      "443/443 [==============================] - 4s 8ms/step - loss: 0.0696 - accuracy: 0.9788 - val_loss: 7.1097 - val_accuracy: 0.2953\n",
      "Epoch 73/100\n",
      "443/443 [==============================] - 4s 8ms/step - loss: 0.0657 - accuracy: 0.9804 - val_loss: 7.1326 - val_accuracy: 0.2978\n",
      "Epoch 74/100\n",
      "443/443 [==============================] - 4s 8ms/step - loss: 0.0654 - accuracy: 0.9793 - val_loss: 7.5446 - val_accuracy: 0.2847\n",
      "Epoch 75/100\n",
      "443/443 [==============================] - 4s 8ms/step - loss: 0.0711 - accuracy: 0.9783 - val_loss: 7.8818 - val_accuracy: 0.2765\n",
      "Epoch 76/100\n",
      "443/443 [==============================] - 4s 8ms/step - loss: 0.0669 - accuracy: 0.9788 - val_loss: 7.1847 - val_accuracy: 0.2915\n",
      "Epoch 77/100\n",
      "443/443 [==============================] - 4s 8ms/step - loss: 0.0634 - accuracy: 0.9799 - val_loss: 7.7012 - val_accuracy: 0.2814\n",
      "Epoch 78/100\n",
      "443/443 [==============================] - 4s 8ms/step - loss: 0.0642 - accuracy: 0.9797 - val_loss: 7.1212 - val_accuracy: 0.2987\n",
      "Epoch 79/100\n",
      "443/443 [==============================] - 4s 8ms/step - loss: 0.0634 - accuracy: 0.9797 - val_loss: 7.3710 - val_accuracy: 0.2885\n",
      "Epoch 80/100\n",
      "443/443 [==============================] - 4s 8ms/step - loss: 0.0640 - accuracy: 0.9797 - val_loss: 7.2741 - val_accuracy: 0.2859\n",
      "Epoch 81/100\n",
      "443/443 [==============================] - 3s 8ms/step - loss: 0.0603 - accuracy: 0.9799 - val_loss: 7.8348 - val_accuracy: 0.2892\n",
      "Epoch 82/100\n",
      "443/443 [==============================] - 3s 8ms/step - loss: 0.0605 - accuracy: 0.9805 - val_loss: 7.9393 - val_accuracy: 0.2870\n",
      "Epoch 83/100\n",
      "443/443 [==============================] - 4s 8ms/step - loss: 0.0613 - accuracy: 0.9805 - val_loss: 7.8676 - val_accuracy: 0.2869\n",
      "Epoch 84/100\n",
      "443/443 [==============================] - 3s 8ms/step - loss: 0.0642 - accuracy: 0.9794 - val_loss: 7.4301 - val_accuracy: 0.2920\n",
      "Epoch 85/100\n",
      "443/443 [==============================] - 4s 8ms/step - loss: 0.0621 - accuracy: 0.9806 - val_loss: 7.7592 - val_accuracy: 0.2945\n",
      "Epoch 86/100\n",
      "443/443 [==============================] - 4s 8ms/step - loss: 0.0597 - accuracy: 0.9816 - val_loss: 7.7603 - val_accuracy: 0.2950\n",
      "Epoch 87/100\n",
      "443/443 [==============================] - 4s 8ms/step - loss: 0.0612 - accuracy: 0.9806 - val_loss: 8.0479 - val_accuracy: 0.2831\n",
      "Epoch 88/100\n",
      "443/443 [==============================] - 4s 8ms/step - loss: 0.0640 - accuracy: 0.9803 - val_loss: 8.7698 - val_accuracy: 0.2562\n",
      "Epoch 89/100\n",
      "443/443 [==============================] - 4s 8ms/step - loss: 0.0679 - accuracy: 0.9797 - val_loss: 7.5908 - val_accuracy: 0.2869\n",
      "Epoch 90/100\n",
      "443/443 [==============================] - 4s 8ms/step - loss: 0.0594 - accuracy: 0.9807 - val_loss: 7.7534 - val_accuracy: 0.2892\n",
      "Epoch 91/100\n",
      "443/443 [==============================] - 4s 8ms/step - loss: 0.0613 - accuracy: 0.9807 - val_loss: 7.7070 - val_accuracy: 0.2933\n",
      "Epoch 92/100\n",
      "443/443 [==============================] - 4s 8ms/step - loss: 0.0547 - accuracy: 0.9822 - val_loss: 8.1858 - val_accuracy: 0.2869\n",
      "Epoch 93/100\n",
      "443/443 [==============================] - 4s 8ms/step - loss: 0.0546 - accuracy: 0.9827 - val_loss: 8.3723 - val_accuracy: 0.2793\n",
      "Epoch 94/100\n",
      "443/443 [==============================] - 4s 8ms/step - loss: 0.0559 - accuracy: 0.9816 - val_loss: 7.8366 - val_accuracy: 0.2884\n",
      "Epoch 95/100\n",
      "443/443 [==============================] - 4s 8ms/step - loss: 0.0562 - accuracy: 0.9808 - val_loss: 7.7307 - val_accuracy: 0.2954\n",
      "Epoch 96/100\n",
      "443/443 [==============================] - 4s 8ms/step - loss: 0.0575 - accuracy: 0.9819 - val_loss: 8.0142 - val_accuracy: 0.2864\n",
      "Epoch 97/100\n",
      "443/443 [==============================] - 4s 8ms/step - loss: 0.0550 - accuracy: 0.9818 - val_loss: 8.0913 - val_accuracy: 0.2799\n",
      "Epoch 98/100\n",
      "443/443 [==============================] - 4s 8ms/step - loss: 0.0531 - accuracy: 0.9825 - val_loss: 8.5174 - val_accuracy: 0.2834\n",
      "Epoch 99/100\n",
      "443/443 [==============================] - 3s 8ms/step - loss: 0.0571 - accuracy: 0.9811 - val_loss: 7.7809 - val_accuracy: 0.2890\n",
      "Epoch 100/100\n",
      "443/443 [==============================] - 4s 8ms/step - loss: 0.0549 - accuracy: 0.9828 - val_loss: 8.3127 - val_accuracy: 0.2836\n"
     ]
    },
    {
     "data": {
      "image/png": "[encoded data removed]",
      "text/plain": [
       "<Figure size 864x360 with 1 Axes>"
      ]
     },
     "metadata": {
      "needs_background": "light"
     },
     "output_type": "display_data"
    }
   ],
   "source": [
    "history = model.fit(x_train, y_train, epochs=100, validation_data=(x_test, y_test))\n",
    "\n",
    "pd.DataFrame(history.history).plot(figsize=(12, 5))\n",
    "plt.grid(True)\n",
    "plt.gca().set_ylim(0, 2)\n",
    "plt.show()"
   ]
  },
  {
   "cell_type": "code",
   "execution_count": 13,
   "metadata": {},
   "outputs": [
    {
     "name": "stdout",
     "output_type": "stream",
     "text": [
      "190/190 [==============================] - 0s 2ms/step - loss: 8.3127 - accuracy: 0.2836\n"
     ]
    },
    {
     "name": "stderr",
     "output_type": "stream",
     "text": [
      "\r",
      "0it [00:00, ?it/s]"
     ]
    },
    {
     "name": "stdout",
     "output_type": "stream",
     "text": [
      "Test Score: 8.312726974487305\n",
      "Test Accuracy: 0.2835697829723358\n"
     ]
    },
    {
     "name": "stderr",
     "output_type": "stream",
     "text": [
      "6062it [01:17, 78.06it/s] \n"
     ]
    },
    {
     "name": "stdout",
     "output_type": "stream",
     "text": [
      "Accuracy: 0.28\n",
      "              precision    recall  f1-score   support\n",
      "\n",
      "           0       0.45      0.26      0.33       866\n",
      "           1       0.00      0.00      0.00       866\n",
      "           2       0.00      0.00      0.00       866\n",
      "           3       0.32      0.44      0.37       866\n",
      "           4       0.19      0.69      0.29       866\n",
      "           5       0.56      0.47      0.51       866\n",
      "           6       0.30      0.13      0.18       866\n",
      "\n",
      "    accuracy                           0.28      6062\n",
      "   macro avg       0.26      0.28      0.24      6062\n",
      "weighted avg       0.26      0.28      0.24      6062\n",
      "\n"
     ]
    }
   ],
   "source": [
    "score = model.evaluate(x_test, y_test, verbose=1)\n",
    "\n",
    "print(\"Test Score:\", score[0])\n",
    "print(\"Test Accuracy:\", score[1])\n",
    "\n",
    "y_predict = []\n",
    "for features in tqdm(x_test):\n",
    "    features = features.reshape(1, -1)\n",
    "    value_prob = model.predict(features)\n",
    "    value = np.argmax(value_prob, axis=1)\n",
    "    y_predict.append(value)\n",
    "\n",
    "accuracy_predict = accuracy_score(y_test, y_predict)\n",
    "print('Accuracy: {0}'.format(round(np.mean(accuracy_predict), 2)))\n",
    "print(classification_report(y_test, y_predict))"
   ]
  },
  {
   "cell_type": "code",
   "execution_count": null,
   "metadata": {},
   "outputs": [],
   "source": []
  }
 ],
 "metadata": {
  "kernelspec": {
   "display_name": "Python 3",
   "language": "python",
   "name": "python3"
  },
  "language_info": {
   "codemirror_mode": {
    "name": "ipython",
    "version": 3
   },
   "file_extension": ".py",
   "mimetype": "text/x-python",
   "name": "python",
   "nbconvert_exporter": "python",
   "pygments_lexer": "ipython3",
   "version": "3.8.10"
  }
 },
 "nbformat": 4,
 "nbformat_minor": 4
}
